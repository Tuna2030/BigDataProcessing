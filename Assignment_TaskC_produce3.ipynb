{
 "cells": [
  {
   "cell_type": "code",
   "execution_count": 1,
   "metadata": {},
   "outputs": [],
   "source": [
    "# import statements\n",
    "from time import sleep\n",
    "import random\n",
    "import csv\n",
    "import json \n",
    "from json import dumps\n",
    "from kafka import KafkaProducer\n",
    "import random\n",
    "import datetime as dt"
   ]
  },
  {
   "cell_type": "code",
   "execution_count": 2,
   "metadata": {},
   "outputs": [
    {
     "name": "stdout",
     "output_type": "stream",
     "text": [
      "Publishing records..\n",
      "Message published successfully. Data: 3,21:59:17,{'confidence': 75.0, 'surface_temperature_celcius': 49.0, 'latitude': -34.8919, 'longitude': 142.0529}\n",
      "Message published successfully. Data: 3,21:59:46,{'confidence': 90.0, 'surface_temperature_celcius': 66.0, 'latitude': -36.5399, 'longitude': 144.678}\n",
      "Message published successfully. Data: 3,22:00:04,{'confidence': 63.0, 'surface_temperature_celcius': 48.0, 'latitude': -37.6376, 'longitude': 143.4255}\n",
      "Message published successfully. Data: 3,22:00:35,{'confidence': 66.0, 'surface_temperature_celcius': 43.0, 'latitude': -36.884, 'longitude': 145.8938}\n",
      "Message published successfully. Data: 3,22:01:05,{'confidence': 83.0, 'surface_temperature_celcius': 56.0, 'latitude': -37.6593, 'longitude': 142.6655}\n",
      "Message published successfully. Data: 3,22:01:21,{'confidence': 83.0, 'surface_temperature_celcius': 57.0, 'latitude': -37.6518, 'longitude': 142.9159}\n",
      "Message published successfully. Data: 3,22:01:44,{'confidence': 100.0, 'surface_temperature_celcius': 115.0, 'latitude': -36.2829, 'longitude': 145.825}\n",
      "Message published successfully. Data: 3,22:02:09,{'confidence': 81.0, 'surface_temperature_celcius': 54.0, 'latitude': -36.2558, 'longitude': 143.6443}\n",
      "Message published successfully. Data: 3,22:02:20,{'confidence': 68.0, 'surface_temperature_celcius': 44.0, 'latitude': -36.9986, 'longitude': 143.8953}\n"
     ]
    },
    {
     "ename": "KeyboardInterrupt",
     "evalue": "",
     "output_type": "error",
     "traceback": [
      "\u001b[0;31m---------------------------------------------------------------------------\u001b[0m",
      "\u001b[0;31mKeyboardInterrupt\u001b[0m                         Traceback (most recent call last)",
      "\u001b[0;32m<ipython-input-2-931387b5bf63>\u001b[0m in \u001b[0;36m<module>\u001b[0;34m()\u001b[0m\n\u001b[1;32m     55\u001b[0m         \u001b[0mpublish_message\u001b[0m\u001b[0;34m(\u001b[0m\u001b[0mproducer\u001b[0m\u001b[0;34m,\u001b[0m \u001b[0mtopic\u001b[0m\u001b[0;34m,\u001b[0m \u001b[0;34m'parsed'\u001b[0m\u001b[0;34m,\u001b[0m \u001b[0mstr\u001b[0m\u001b[0;34m(\u001b[0m\u001b[0mrecord\u001b[0m\u001b[0;34m)\u001b[0m\u001b[0;34m)\u001b[0m\u001b[0;34m\u001b[0m\u001b[0m\n\u001b[1;32m     56\u001b[0m         \u001b[0mtimesleep\u001b[0m \u001b[0;34m=\u001b[0m \u001b[0mrandom\u001b[0m\u001b[0;34m.\u001b[0m\u001b[0mrandint\u001b[0m\u001b[0;34m(\u001b[0m\u001b[0;36m10\u001b[0m\u001b[0;34m,\u001b[0m\u001b[0;36m31\u001b[0m\u001b[0;34m)\u001b[0m\u001b[0;34m\u001b[0m\u001b[0m\n\u001b[0;32m---> 57\u001b[0;31m         \u001b[0msleep\u001b[0m\u001b[0;34m(\u001b[0m\u001b[0mtimesleep\u001b[0m\u001b[0;34m)\u001b[0m\u001b[0;34m\u001b[0m\u001b[0m\n\u001b[0m",
      "\u001b[0;31mKeyboardInterrupt\u001b[0m: "
     ]
    }
   ],
   "source": [
    "def publish_message(producer_instance, topic_name, key, value):\n",
    "    try:\n",
    "        key_bytes = bytes(key, encoding='utf-8')\n",
    "        value_bytes = bytes(value, encoding='utf-8')\n",
    "        producer_instance.send(topic_name, key=key_bytes, value=value_bytes)\n",
    "        producer_instance.flush()\n",
    "        print('Message published successfully. Data: ' + value)\n",
    "        \n",
    "    except Exception as ex:\n",
    "        print('Exception in publishing message.')\n",
    "        print(str(ex))\n",
    "        \n",
    "def connect_kafka_producer():\n",
    "    _producer = None\n",
    "    try:\n",
    "        _producer = KafkaProducer(bootstrap_servers=['localhost:9092'],\n",
    "                                  api_version=(0, 10))\n",
    "    except Exception as ex:\n",
    "        print('Exception while connecting Kafka.')\n",
    "        print(str(ex))\n",
    "    finally:\n",
    "        return _producer\n",
    "    \n",
    "if __name__ == '__main__':\n",
    "    \n",
    "    csvfile = open('hotspot_TERRA_streaming.csv', 'r')\n",
    "    reader = csv.DictReader(csvfile)\n",
    "    header = [\"latitude\",\"longitude\",\"confidence\",\"surface_temperature_celcius\"]\n",
    "    dataList = []\n",
    "    sender_id = 3\n",
    "    for each in reader:\n",
    "        row={}\n",
    "        for field in header:\n",
    "            if field=='latitude':\n",
    "                each[field] = float(each[field])\n",
    "            if field=='longitude':\n",
    "                each[field] = float(each[field])\n",
    "            if field=='confidence':\n",
    "                each[field] = float(each[field])\n",
    "            if field=='surface_temperature_celcius':\n",
    "                each[field] = float(each[field])\n",
    "            row[field]=each[field]     \n",
    "        dataList.append(row)\n",
    "   \n",
    "    topic = 'TaskC'\n",
    "    \n",
    "    print('Publishing records..')\n",
    "    producer = connect_kafka_producer()\n",
    "    \n",
    "    while True:\n",
    "        randomInt = random.randint(0, len(dataList) - 1)\n",
    "        data = str(dataList[randomInt])\n",
    "        del dataList[randomInt]\n",
    "        record = str(sender_id) + ',' + str(dt.datetime.now().strftime(\"%X\")) + ',' + data\n",
    "        publish_message(producer, topic, 'parsed', str(record))\n",
    "        timesleep = random.randint(10,31)\n",
    "        sleep(timesleep)"
   ]
  },
  {
   "cell_type": "code",
   "execution_count": null,
   "metadata": {},
   "outputs": [],
   "source": []
  },
  {
   "cell_type": "code",
   "execution_count": null,
   "metadata": {},
   "outputs": [],
   "source": []
  }
 ],
 "metadata": {
  "kernelspec": {
   "display_name": "Python 3",
   "language": "python",
   "name": "python3"
  },
  "language_info": {
   "codemirror_mode": {
    "name": "ipython",
    "version": 3
   },
   "file_extension": ".py",
   "mimetype": "text/x-python",
   "name": "python",
   "nbconvert_exporter": "python",
   "pygments_lexer": "ipython3",
   "version": "3.5.2"
  }
 },
 "nbformat": 4,
 "nbformat_minor": 2
}
