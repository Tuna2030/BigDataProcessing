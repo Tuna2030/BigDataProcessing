{
 "cells": [
  {
   "cell_type": "code",
   "execution_count": 5,
   "metadata": {},
   "outputs": [],
   "source": [
    "# import statements\n",
    "from time import sleep\n",
    "import random\n",
    "import csv\n",
    "import json \n",
    "from json import dumps\n",
    "from kafka import KafkaProducer\n",
    "import random\n",
    "import datetime as dt"
   ]
  },
  {
   "cell_type": "code",
   "execution_count": 6,
   "metadata": {
    "scrolled": true
   },
   "outputs": [
    {
     "name": "stdout",
     "output_type": "stream",
     "text": [
      "Publishing records..\n",
      "1,22:08:24,{'longitude': 141.6716, 'relative_humidity': 42.5, 'max_wind_speed': 15.0, 'precipitation ': ' 0.00I', 'windspeed_knots': 8.0, 'air_temperature_celcius': 13, 'latitude': -36.279}\n",
      "1,22:08:29,{'longitude': 143.351, 'relative_humidity': 53.4, 'max_wind_speed': 25.1, 'precipitation ': ' 0.16G', 'windspeed_knots': 9.4, 'air_temperature_celcius': 17, 'latitude': -37.467}\n",
      "1,22:08:34,{'longitude': 142.3787, 'relative_humidity': 41.6, 'max_wind_speed': 18.1, 'precipitation ': ' 0.00I', 'windspeed_knots': 13.1, 'air_temperature_celcius': 14, 'latitude': -35.6374}\n",
      "1,22:08:39,{'longitude': 144.972, 'relative_humidity': 57.3, 'max_wind_speed': 9.9, 'precipitation ': ' 0.00I', 'windspeed_knots': 5.4, 'air_temperature_celcius': 21, 'latitude': -36.952}\n",
      "1,22:08:44,{'longitude': 143.8589, 'relative_humidity': 59.7, 'max_wind_speed': 14.0, 'precipitation ': ' 0.63G', 'windspeed_knots': 7.4, 'air_temperature_celcius': 19, 'latitude': -37.0585}\n",
      "1,22:08:49,{'longitude': 141.9183, 'relative_humidity': 43.3, 'max_wind_speed': 11.1, 'precipitation ': ' 0.00G', 'windspeed_knots': 7.0, 'air_temperature_celcius': 12, 'latitude': -37.9072}\n",
      "1,22:08:54,{'longitude': 148.121, 'relative_humidity': 44.0, 'max_wind_speed': 21.0, 'precipitation ': ' 0.04G', 'windspeed_knots': 13.6, 'air_temperature_celcius': 13, 'latitude': -37.397}\n",
      "1,22:08:59,{'longitude': 148.097, 'relative_humidity': 42.6, 'max_wind_speed': 6.0, 'precipitation ': ' 0.00I', 'windspeed_knots': 2.0, 'air_temperature_celcius': 8, 'latitude': -37.477}\n",
      "1,22:09:04,{'longitude': 149.311, 'relative_humidity': 48.5, 'max_wind_speed': 14.0, 'precipitation ': ' 0.00G', 'windspeed_knots': 7.3, 'air_temperature_celcius': 14, 'latitude': -37.602}\n",
      "1,22:09:09,{'longitude': 149.308, 'relative_humidity': 48.5, 'max_wind_speed': 14.0, 'precipitation ': ' 0.71G', 'windspeed_knots': 10.7, 'air_temperature_celcius': 13, 'latitude': -37.605}\n",
      "1,22:09:14,{'longitude': 144.6301, 'relative_humidity': 41.4, 'max_wind_speed': 15.0, 'precipitation ': ' 0.03G', 'windspeed_knots': 7.7, 'air_temperature_celcius': 11, 'latitude': -37.8387}\n",
      "1,22:09:19,{'longitude': 142.0839, 'relative_humidity': 43.9, 'max_wind_speed': 9.9, 'precipitation ': ' 0.00G', 'windspeed_knots': 5.7, 'air_temperature_celcius': 9, 'latitude': -36.5243}\n",
      "1,22:09:24,{'longitude': 142.6076, 'relative_humidity': 58.7, 'max_wind_speed': 12.0, 'precipitation ': ' 0.28G', 'windspeed_knots': 5.5, 'air_temperature_celcius': 19, 'latitude': -36.5775}\n",
      "1,22:09:29,{'longitude': 142.941, 'relative_humidity': 61.9, 'max_wind_speed': 15.9, 'precipitation ': ' 0.00I', 'windspeed_knots': 8.0, 'air_temperature_celcius': 23, 'latitude': -37.213}\n",
      "1,22:09:34,{'longitude': 148.043, 'relative_humidity': 43.3, 'max_wind_speed': 8.0, 'precipitation ': ' 0.00I', 'windspeed_knots': 3.9, 'air_temperature_celcius': 8, 'latitude': -37.386}\n",
      "1,22:09:39,{'longitude': 148.143, 'relative_humidity': 48.7, 'max_wind_speed': 15.0, 'precipitation ': ' 0.00I', 'windspeed_knots': 10.5, 'air_temperature_celcius': 17, 'latitude': -37.466}\n",
      "1,22:09:44,{'longitude': 143.1666, 'relative_humidity': 44.2, 'max_wind_speed': 9.9, 'precipitation ': ' 0.00I', 'windspeed_knots': 5.8, 'air_temperature_celcius': 11, 'latitude': -36.2212}\n",
      "1,22:09:49,{'longitude': 148.103, 'relative_humidity': 45.9, 'max_wind_speed': 7.0, 'precipitation ': ' 0.00G', 'windspeed_knots': 3.2, 'air_temperature_celcius': 10, 'latitude': -37.461}\n",
      "1,22:09:54,{'longitude': 149.334, 'relative_humidity': 48.2, 'max_wind_speed': 18.1, 'precipitation ': ' 0.01G', 'windspeed_knots': 9.9, 'air_temperature_celcius': 16, 'latitude': -37.38}\n",
      "1,22:09:59,{'longitude': 149.336, 'relative_humidity': 48.9, 'max_wind_speed': 8.9, 'precipitation ': ' 0.00I', 'windspeed_knots': 5.4, 'air_temperature_celcius': 16, 'latitude': -37.384}\n",
      "1,22:10:04,{'longitude': 148.118, 'relative_humidity': 39.0, 'max_wind_speed': 5.1, 'precipitation ': ' 0.01G', 'windspeed_knots': 1.8, 'air_temperature_celcius': 6, 'latitude': -37.453}\n",
      "1,22:10:09,{'longitude': 148.1, 'relative_humidity': 49.4, 'max_wind_speed': 8.9, 'precipitation ': ' 0.00I', 'windspeed_knots': 4.4, 'air_temperature_celcius': 12, 'latitude': -37.466}\n",
      "1,22:10:14,{'longitude': 143.5051, 'relative_humidity': 44.0, 'max_wind_speed': 23.9, 'precipitation ': ' 0.16G', 'windspeed_knots': 14.4, 'air_temperature_celcius': 14, 'latitude': -36.9817}\n",
      "1,22:10:19,{'longitude': 149.237, 'relative_humidity': 48.4, 'max_wind_speed': 15.9, 'precipitation ': ' 0.00G', 'windspeed_knots': 8.1, 'air_temperature_celcius': 16, 'latitude': -37.634}\n",
      "1,22:10:24,{'longitude': 142.5679, 'relative_humidity': 38.7, 'max_wind_speed': 22.9, 'precipitation ': ' 0.00I', 'windspeed_knots': 16.8, 'air_temperature_celcius': 17, 'latitude': -35.2881}\n",
      "1,22:10:29,{'longitude': 148.114, 'relative_humidity': 44.4, 'max_wind_speed': 11.1, 'precipitation ': ' 0.12G', 'windspeed_knots': 5.6, 'air_temperature_celcius': 10, 'latitude': -37.448}\n",
      "1,22:10:34,{'longitude': 141.232, 'relative_humidity': 49.0, 'max_wind_speed': 8.9, 'precipitation ': ' 0.00G', 'windspeed_knots': 4.6, 'air_temperature_celcius': 12, 'latitude': -37.294}\n",
      "1,22:10:39,{'longitude': 145.2096, 'relative_humidity': 43.6, 'max_wind_speed': 14.0, 'precipitation ': ' 0.20G', 'windspeed_knots': 9.7, 'air_temperature_celcius': 10, 'latitude': -36.1462}\n",
      "1,22:10:44,{'longitude': 141.505, 'relative_humidity': 55.5, 'max_wind_speed': 15.0, 'precipitation ': ' 0.00I', 'windspeed_knots': 7.9, 'air_temperature_celcius': 24, 'latitude': -36.2111}\n",
      "1,22:10:49,{'longitude': 141.0357, 'relative_humidity': 40.4, 'max_wind_speed': 8.9, 'precipitation ': ' 0.00G', 'windspeed_knots': 5.9, 'air_temperature_celcius': 12, 'latitude': -37.0884}\n",
      "1,22:10:54,{'longitude': 148.042, 'relative_humidity': 43.2, 'max_wind_speed': 8.0, 'precipitation ': ' 0.00G', 'windspeed_knots': 5.5, 'air_temperature_celcius': 11, 'latitude': -37.376}\n",
      "1,22:10:59,{'longitude': 149.326, 'relative_humidity': 49.6, 'max_wind_speed': 19.0, 'precipitation ': ' 0.00I', 'windspeed_knots': 10.0, 'air_temperature_celcius': 23, 'latitude': -37.605}\n",
      "1,22:11:04,{'longitude': 142.7722, 'relative_humidity': 56.8, 'max_wind_speed': 9.9, 'precipitation ': ' 0.00I', 'windspeed_knots': 5.7, 'air_temperature_celcius': 24, 'latitude': -36.3096}\n",
      "1,22:11:09,{'longitude': 142.366, 'relative_humidity': 53.6, 'max_wind_speed': 15.0, 'precipitation ': ' 0.00G', 'windspeed_knots': 8.1, 'air_temperature_celcius': 16, 'latitude': -37.95}\n",
      "1,22:11:14,{'longitude': 143.282, 'relative_humidity': 58.3, 'max_wind_speed': 13.0, 'precipitation ': ' 0.00I', 'windspeed_knots': 7.1, 'air_temperature_celcius': 25, 'latitude': -36.942}\n",
      "1,22:11:19,{'longitude': 143.7149, 'relative_humidity': 43.8, 'max_wind_speed': 14.0, 'precipitation ': ' 0.16G', 'windspeed_knots': 6.7, 'air_temperature_celcius': 12, 'latitude': -36.3799}\n",
      "1,22:11:24,{'longitude': 145.363, 'relative_humidity': 49.4, 'max_wind_speed': 9.9, 'precipitation ': ' 0.01G', 'windspeed_knots': 3.8, 'air_temperature_celcius': 13, 'latitude': -37.087}\n",
      "1,22:11:29,{'longitude': 146.149, 'relative_humidity': 57.7, 'max_wind_speed': 18.1, 'precipitation ': ' 0.00I', 'windspeed_knots': 9.9, 'air_temperature_celcius': 20, 'latitude': -36.294}\n",
      "1,22:11:34,{'longitude': 142.5237, 'relative_humidity': 38.6, 'max_wind_speed': 18.1, 'precipitation ': ' 0.31G', 'windspeed_knots': 12.8, 'air_temperature_celcius': 8, 'latitude': -36.5548}\n",
      "1,22:11:39,{'longitude': 148.086, 'relative_humidity': 41.6, 'max_wind_speed': 28.0, 'precipitation ': ' 0.00I', 'windspeed_knots': 15.0, 'air_temperature_celcius': 15, 'latitude': -37.396}\n",
      "1,22:11:44,{'longitude': 148.297, 'relative_humidity': 52.6, 'max_wind_speed': 15.9, 'precipitation ': ' 0.00G', 'windspeed_knots': 10.3, 'air_temperature_celcius': 17, 'latitude': -37.749}\n",
      "1,22:11:49,{'longitude': 142.2536, 'relative_humidity': 40.4, 'max_wind_speed': 15.0, 'precipitation ': ' 0.04G', 'windspeed_knots': 9.2, 'air_temperature_celcius': 11, 'latitude': -36.7179}\n",
      "1,22:11:54,{'longitude': 142.3282, 'relative_humidity': 41.2, 'max_wind_speed': 13.0, 'precipitation ': ' 0.01G', 'windspeed_knots': 6.7, 'air_temperature_celcius': 9, 'latitude': -36.8948}\n",
      "1,22:11:59,{'longitude': 143.375, 'relative_humidity': 51.7, 'max_wind_speed': 13.0, 'precipitation ': ' 0.00I', 'windspeed_knots': 7.2, 'air_temperature_celcius': 21, 'latitude': -37.332}\n"
     ]
    },
    {
     "name": "stdout",
     "output_type": "stream",
     "text": [
      "1,22:12:04,{'longitude': 149.341, 'relative_humidity': 53.6, 'max_wind_speed': 15.0, 'precipitation ': ' 0.00I', 'windspeed_knots': 7.2, 'air_temperature_celcius': 18, 'latitude': -37.382}\n",
      "1,22:12:09,{'longitude': 143.91, 'relative_humidity': 41.9, 'max_wind_speed': 14.0, 'precipitation ': ' 0.12G', 'windspeed_knots': 9.2, 'air_temperature_celcius': 9, 'latitude': -36.8741}\n"
     ]
    },
    {
     "ename": "KeyboardInterrupt",
     "evalue": "",
     "output_type": "error",
     "traceback": [
      "\u001b[0;31m---------------------------------------------------------------------------\u001b[0m",
      "\u001b[0;31mKeyboardInterrupt\u001b[0m                         Traceback (most recent call last)",
      "\u001b[0;32m<ipython-input-6-2e0322b0d0f4>\u001b[0m in \u001b[0;36m<module>\u001b[0;34m()\u001b[0m\n\u001b[1;32m     58\u001b[0m         \u001b[0mrecord\u001b[0m \u001b[0;34m=\u001b[0m \u001b[0mstr\u001b[0m\u001b[0;34m(\u001b[0m\u001b[0msender_id\u001b[0m\u001b[0;34m)\u001b[0m \u001b[0;34m+\u001b[0m \u001b[0;34m','\u001b[0m \u001b[0;34m+\u001b[0m \u001b[0mstr\u001b[0m\u001b[0;34m(\u001b[0m\u001b[0mdt\u001b[0m\u001b[0;34m.\u001b[0m\u001b[0mdatetime\u001b[0m\u001b[0;34m.\u001b[0m\u001b[0mnow\u001b[0m\u001b[0;34m(\u001b[0m\u001b[0;34m)\u001b[0m\u001b[0;34m.\u001b[0m\u001b[0mstrftime\u001b[0m\u001b[0;34m(\u001b[0m\u001b[0;34m\"%X\"\u001b[0m\u001b[0;34m)\u001b[0m\u001b[0;34m)\u001b[0m \u001b[0;34m+\u001b[0m \u001b[0;34m','\u001b[0m \u001b[0;34m+\u001b[0m \u001b[0mdata\u001b[0m\u001b[0;34m\u001b[0m\u001b[0m\n\u001b[1;32m     59\u001b[0m         \u001b[0mpublish_message\u001b[0m\u001b[0;34m(\u001b[0m\u001b[0mproducer\u001b[0m\u001b[0;34m,\u001b[0m \u001b[0mtopic\u001b[0m\u001b[0;34m,\u001b[0m \u001b[0;34m'parsed'\u001b[0m\u001b[0;34m,\u001b[0m \u001b[0mstr\u001b[0m\u001b[0;34m(\u001b[0m\u001b[0mrecord\u001b[0m\u001b[0;34m)\u001b[0m\u001b[0;34m)\u001b[0m\u001b[0;34m\u001b[0m\u001b[0m\n\u001b[0;32m---> 60\u001b[0;31m         \u001b[0msleep\u001b[0m\u001b[0;34m(\u001b[0m\u001b[0;36m5\u001b[0m\u001b[0;34m)\u001b[0m\u001b[0;34m\u001b[0m\u001b[0m\n\u001b[0m",
      "\u001b[0;31mKeyboardInterrupt\u001b[0m: "
     ]
    }
   ],
   "source": [
    "def publish_message(producer_instance, topic_name, key, value):\n",
    "    try:\n",
    "        key_bytes = bytes(key, encoding='utf-8')\n",
    "        value_bytes = bytes(value, encoding='utf-8')\n",
    "        producer_instance.send(topic_name, key=key_bytes, value=value_bytes)\n",
    "        producer_instance.flush()\n",
    "        print(value)\n",
    "        \n",
    "    except Exception as ex:\n",
    "        print('Exception in publishing message.')\n",
    "        print(str(ex))\n",
    "        \n",
    "def connect_kafka_producer():\n",
    "    _producer = None\n",
    "    try:\n",
    "        _producer = KafkaProducer(bootstrap_servers=['localhost:9092'],\n",
    "                                  api_version=(0, 10))\n",
    "    except Exception as ex:\n",
    "        print('Exception while connecting Kafka.')\n",
    "        print(str(ex))\n",
    "    finally:\n",
    "        return _producer\n",
    "    \n",
    "if __name__ == '__main__':\n",
    "    \n",
    "    csvfile = open('climate_streaming.csv', 'r')\n",
    "    reader = csv.DictReader(csvfile)\n",
    "    header = [\"latitude\",\"longitude\",\"air_temperature_celcius\",\"relative_humidity\",\"windspeed_knots\",\"max_wind_speed\",\"precipitation \"]\n",
    "    dataList = []\n",
    "    sender_id = 1\n",
    "    for each in reader:\n",
    "        row={}\n",
    "        for field in header:\n",
    "            if field=='latitude':\n",
    "                each[field] = float(each[field])\n",
    "            if field=='longitude':\n",
    "                each[field] = float(each[field])\n",
    "            if field=='air_temperature_celcius':\n",
    "                each[field] = int(each[field])\n",
    "            if field=='relative_humidity':\n",
    "                each[field] = float(each[field])\n",
    "            if field=='windspeed_knots':\n",
    "                each[field] = float(each[field])\n",
    "            if field=='max_wind_speed':\n",
    "                each[field] = float(each[field])\n",
    "            row[field]=each[field]     \n",
    "        dataList.append(row)\n",
    "   \n",
    "    topic = 'TaskC'\n",
    "    \n",
    "    print('Publishing records..')\n",
    "    producer = connect_kafka_producer()\n",
    "    \n",
    "    while True:\n",
    "        randomInt = random.randint(0, len(dataList) - 1)\n",
    "        data = str(dataList[randomInt])\n",
    "        del dataList[randomInt]\n",
    "        record = str(sender_id) + ',' + str(dt.datetime.now().strftime(\"%X\")) + ',' + data\n",
    "        publish_message(producer, topic, 'parsed', str(record))\n",
    "        sleep(5)"
   ]
  },
  {
   "cell_type": "code",
   "execution_count": null,
   "metadata": {},
   "outputs": [],
   "source": []
  },
  {
   "cell_type": "code",
   "execution_count": null,
   "metadata": {},
   "outputs": [],
   "source": []
  }
 ],
 "metadata": {
  "kernelspec": {
   "display_name": "Python 3",
   "language": "python",
   "name": "python3"
  },
  "language_info": {
   "codemirror_mode": {
    "name": "ipython",
    "version": 3
   },
   "file_extension": ".py",
   "mimetype": "text/x-python",
   "name": "python",
   "nbconvert_exporter": "python",
   "pygments_lexer": "ipython3",
   "version": "3.5.2"
  }
 },
 "nbformat": 4,
 "nbformat_minor": 2
}
