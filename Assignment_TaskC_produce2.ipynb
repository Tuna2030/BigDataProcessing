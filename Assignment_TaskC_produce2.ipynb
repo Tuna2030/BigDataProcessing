{
 "cells": [
  {
   "cell_type": "code",
   "execution_count": 1,
   "metadata": {},
   "outputs": [],
   "source": [
    "# import statements\n",
    "from time import sleep\n",
    "import random\n",
    "import csv\n",
    "import json \n",
    "from json import dumps\n",
    "from kafka import KafkaProducer\n",
    "import random\n",
    "import datetime as dt"
   ]
  },
  {
   "cell_type": "code",
   "execution_count": 2,
   "metadata": {},
   "outputs": [
    {
     "name": "stdout",
     "output_type": "stream",
     "text": [
      "Publishing records..\n",
      "Message published successfully. Data: 2,21:59:13,{'latitude': -36.2648, 'longitude': 141.1012, 'confidence': 100.0, 'surface_temperature_celcius': 111.0}\n",
      "Message published successfully. Data: 2,21:59:28,{'latitude': -37.0135, 'longitude': 143.5822, 'confidence': 69.0, 'surface_temperature_celcius': 44.0}\n",
      "Message published successfully. Data: 2,21:59:45,{'latitude': -36.6589, 'longitude': 141.2755, 'confidence': 69.0, 'surface_temperature_celcius': 48.0}\n",
      "Message published successfully. Data: 2,22:00:07,{'latitude': -37.719, 'longitude': 142.154, 'confidence': 63.0, 'surface_temperature_celcius': 41.0}\n",
      "Message published successfully. Data: 2,22:00:26,{'latitude': -36.4402, 'longitude': 141.3259, 'confidence': 87.0, 'surface_temperature_celcius': 61.0}\n",
      "Message published successfully. Data: 2,22:00:42,{'latitude': -37.3654, 'longitude': 143.8156, 'confidence': 65.0, 'surface_temperature_celcius': 42.0}\n",
      "Message published successfully. Data: 2,22:01:08,{'latitude': -36.7219, 'longitude': 141.0396, 'confidence': 82.0, 'surface_temperature_celcius': 56.0}\n",
      "Message published successfully. Data: 2,22:01:22,{'latitude': -36.4513, 'longitude': 141.4191, 'confidence': 79.0, 'surface_temperature_celcius': 52.0}\n",
      "Message published successfully. Data: 2,22:01:34,{'latitude': -37.5837, 'longitude': 144.1565, 'confidence': 59.0, 'surface_temperature_celcius': 40.0}\n",
      "Message published successfully. Data: 2,22:01:56,{'latitude': -37.5842, 'longitude': 148.5717, 'confidence': 65.0, 'surface_temperature_celcius': 49.0}\n",
      "Message published successfully. Data: 2,22:02:24,{'latitude': -36.704, 'longitude': 142.9089, 'confidence': 78.0, 'surface_temperature_celcius': 51.0}\n"
     ]
    },
    {
     "ename": "KeyboardInterrupt",
     "evalue": "",
     "output_type": "error",
     "traceback": [
      "\u001b[0;31m---------------------------------------------------------------------------\u001b[0m",
      "\u001b[0;31mKeyboardInterrupt\u001b[0m                         Traceback (most recent call last)",
      "\u001b[0;32m<ipython-input-2-713e99a212ed>\u001b[0m in \u001b[0;36m<module>\u001b[0;34m()\u001b[0m\n\u001b[1;32m     55\u001b[0m         \u001b[0mpublish_message\u001b[0m\u001b[0;34m(\u001b[0m\u001b[0mproducer\u001b[0m\u001b[0;34m,\u001b[0m \u001b[0mtopic\u001b[0m\u001b[0;34m,\u001b[0m \u001b[0;34m'parsed'\u001b[0m\u001b[0;34m,\u001b[0m \u001b[0mstr\u001b[0m\u001b[0;34m(\u001b[0m\u001b[0mrecord\u001b[0m\u001b[0;34m)\u001b[0m\u001b[0;34m)\u001b[0m\u001b[0;34m\u001b[0m\u001b[0m\n\u001b[1;32m     56\u001b[0m         \u001b[0mtimesleep\u001b[0m \u001b[0;34m=\u001b[0m \u001b[0mrandom\u001b[0m\u001b[0;34m.\u001b[0m\u001b[0mrandint\u001b[0m\u001b[0;34m(\u001b[0m\u001b[0;36m10\u001b[0m\u001b[0;34m,\u001b[0m\u001b[0;36m31\u001b[0m\u001b[0;34m)\u001b[0m\u001b[0;34m\u001b[0m\u001b[0m\n\u001b[0;32m---> 57\u001b[0;31m         \u001b[0msleep\u001b[0m\u001b[0;34m(\u001b[0m\u001b[0mtimesleep\u001b[0m\u001b[0;34m)\u001b[0m\u001b[0;34m\u001b[0m\u001b[0m\n\u001b[0m",
      "\u001b[0;31mKeyboardInterrupt\u001b[0m: "
     ]
    }
   ],
   "source": [
    "def publish_message(producer_instance, topic_name, key, value):\n",
    "    try:\n",
    "        key_bytes = bytes(key, encoding='utf-8')\n",
    "        value_bytes = bytes(value, encoding='utf-8')\n",
    "        producer_instance.send(topic_name, key=key_bytes, value=value_bytes)\n",
    "        producer_instance.flush()\n",
    "        print('Message published successfully. Data: ' + value)\n",
    "        \n",
    "    except Exception as ex:\n",
    "        print('Exception in publishing message.')\n",
    "        print(str(ex))\n",
    "        \n",
    "def connect_kafka_producer():\n",
    "    _producer = None\n",
    "    try:\n",
    "        _producer = KafkaProducer(bootstrap_servers=['localhost:9092'],\n",
    "                                  api_version=(0, 10))\n",
    "    except Exception as ex:\n",
    "        print('Exception while connecting Kafka.')\n",
    "        print(str(ex))\n",
    "    finally:\n",
    "        return _producer\n",
    "    \n",
    "if __name__ == '__main__':\n",
    "    \n",
    "    csvfile = open('hotspot_AQUA_streaming.csv', 'r')\n",
    "    reader = csv.DictReader(csvfile)\n",
    "    header = [\"latitude\",\"longitude\",\"confidence\",\"surface_temperature_celcius\"]\n",
    "    dataList = []\n",
    "    sender_id = 2\n",
    "    for each in reader:\n",
    "        row={}\n",
    "        for field in header:\n",
    "            if field=='latitude':\n",
    "                each[field] = float(each[field])\n",
    "            if field=='longitude':\n",
    "                each[field] = float(each[field])\n",
    "            if field=='confidence':\n",
    "                each[field] = float(each[field])\n",
    "            if field=='surface_temperature_celcius':\n",
    "                each[field] = float(each[field])\n",
    "            row[field]=each[field]     \n",
    "        dataList.append(row)\n",
    "   \n",
    "    topic = 'TaskC'\n",
    "    \n",
    "    print('Publishing records..')\n",
    "    producer = connect_kafka_producer()\n",
    "    \n",
    "    while True:\n",
    "        randomInt = random.randint(0, len(dataList) - 1)\n",
    "        data = str(dataList[randomInt])\n",
    "        del dataList[randomInt]\n",
    "        record = str(sender_id) + ',' + str(dt.datetime.now().strftime(\"%X\")) + ',' + data\n",
    "        publish_message(producer, topic, 'parsed', str(record))\n",
    "        timesleep = random.randint(10,31)\n",
    "        sleep(timesleep)"
   ]
  },
  {
   "cell_type": "code",
   "execution_count": null,
   "metadata": {},
   "outputs": [],
   "source": []
  },
  {
   "cell_type": "code",
   "execution_count": null,
   "metadata": {},
   "outputs": [],
   "source": []
  }
 ],
 "metadata": {
  "kernelspec": {
   "display_name": "Python 3",
   "language": "python",
   "name": "python3"
  },
  "language_info": {
   "codemirror_mode": {
    "name": "ipython",
    "version": 3
   },
   "file_extension": ".py",
   "mimetype": "text/x-python",
   "name": "python",
   "nbconvert_exporter": "python",
   "pygments_lexer": "ipython3",
   "version": "3.5.2"
  }
 },
 "nbformat": 4,
 "nbformat_minor": 2
}
