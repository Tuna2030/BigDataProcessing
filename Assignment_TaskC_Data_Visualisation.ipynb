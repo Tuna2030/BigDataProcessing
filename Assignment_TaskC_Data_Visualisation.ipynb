{
 "cells": [
  {
   "cell_type": "markdown",
   "metadata": {},
   "source": [
    "### TASK C"
   ]
  },
  {
   "cell_type": "markdown",
   "metadata": {},
   "source": [
    "### a. Streaming Visualisation"
   ]
  },
  {
   "cell_type": "code",
   "execution_count": null,
   "metadata": {},
   "outputs": [],
   "source": [
    "import os\n",
    "os.environ['PYSPARK_SUBMIT_ARGS'] = '--packages org.apache.spark:spark-streaming-kafka-0-8_2.11:2.3.0 pyspark-shell'\n",
    "\n",
    "import Geohash #pip install Geohash\n",
    "import ast\n",
    "import sys\n",
    "import time\n",
    "import json\n",
    "import matplotlib.pyplot as plt\n",
    "\n",
    "from pymongo import MongoClient\n",
    "from kafka import KafkaConsumer\n",
    "from pyspark import SparkContext, SparkConf\n",
    "from pyspark.streaming import StreamingContext\n",
    "\n",
    "client = MongoClient()\n",
    "db = client.fit5148_db\n",
    "clm = db.climate_his\n",
    "hot = db.hotspots_his\n",
    "model = db.clim_hot_model\n",
    "\n",
    "# this line is needed for the inline display of graphs in Jupyter Notebook\n",
    "%matplotlib notebook\n",
    "\n",
    "def annotate_max(x, y, ax = None):\n",
    "    ymax = max(y)\n",
    "    xpos = y.index(ymax)\n",
    "    xmax = x[xpos]\n",
    "    text = 'Max: Time={}, Value={}'.format(xmax, ymax)\n",
    "    if not ax:\n",
    "        ax=plt.gca()\n",
    "    ax.annotate(text, xy=(xmax, ymax), xytext=(xmax, ymax+5), arrowprops=dict(facecolor='red', shrink=0.05),)\n",
    "    \n",
    "def annotate_min(x, y, ax = None):\n",
    "    ymin = min(y)\n",
    "    xpos = y.index(ymin)\n",
    "    xmin = x[xpos]\n",
    "    text = 'Min: Time={}, Value={}'.format(xmin, ymin)\n",
    "    if not ax:\n",
    "        ax=plt.gca()\n",
    "    ax.annotate(text, xy=(xmin, ymin), xytext=(xmin, ymin+5), arrowprops=dict(facecolor='orange', shrink=0.05),)\n",
    "\n",
    "def init_plots():\n",
    "    try:\n",
    "        width = 9.5\n",
    "        height = 6\n",
    "        fig = plt.figure(figsize=(width,height)) # create new figure\n",
    "        ax = fig.add_subplot(111) # adding the subplot axes to the given grid position\n",
    "        fig.suptitle('Real-time uniform stream data visualization') # giving figure a title\n",
    "        ax.set_xlabel('Time')\n",
    "        ax.set_ylabel('Value')\n",
    "        ax.set_ylim(0,110) \n",
    "        ax.set_yticks([0,20,40,60,80,100])\n",
    "        fig.show(); # displaying the figure\n",
    "        fig.canvas.draw() # drawing on the canvas\n",
    "        return fig, ax\n",
    "    except Exception as ex:\n",
    "        print(str(ex))\n",
    "\n",
    "def consume_messages(consumer, fig, ax):\n",
    "    try:\n",
    "        # container for x and y values\n",
    "        x, y = [], []\n",
    "        # print('Waiting for messages')\n",
    "        for message in consumer:\n",
    "            data = str(message.value.decode('utf-8')).split(',',2)\n",
    "            data1=json.loads(data[2].replace('\\'','\\\"',20))\n",
    "            x.append(data[1]) \n",
    "            y.append(float(data1['air_temperature_celcius']))\n",
    "            # print(y)\n",
    "            # we start plotting only when we have 10 data points\n",
    "            if len(y) > 10:\n",
    "                ax.clear()\n",
    "                ax.plot(x, y)\n",
    "                ax.set_xlabel('Time')\n",
    "                ax.set_ylabel('Value')\n",
    "                ax.set_ylim(0,110) \n",
    "                ax.set_yticks([0,20,40,60,80,100])\n",
    "                annotate_max(x, y, ax)\n",
    "                annotate_min(x, y, ax)\n",
    "                fig.canvas.draw()\n",
    "                x.pop(0) # removing the item in the first position\n",
    "                y.pop(0)\n",
    "        plt.close('all')\n",
    "    except Exception as ex:\n",
    "        print(str(ex))\n",
    "\n",
    "topic = 'TaskC'   \n",
    "\n",
    "def connect_kafka_consumer():\n",
    "    _consumer = None\n",
    "    try:\n",
    "         _consumer = KafkaConsumer(topic,\n",
    "                                   consumer_timeout_ms=10000, # stop iteration if no message after 10 sec\n",
    "                                   auto_offset_reset='earliest', # comment this if you don't want to consume earliest available message\n",
    "                                   bootstrap_servers=['localhost:9092'],\n",
    "                                   api_version=(0, 10))\n",
    "    except Exception as ex:\n",
    "        print('Exception while connecting Kafka')\n",
    "        print(str(ex))\n",
    "    finally:\n",
    "        return _consumer\n",
    "\n",
    "if __name__ == '__main__':\n",
    "    consumer = connect_kafka_consumer()\n",
    "    fig, ax = init_plots()\n",
    "    consume_messages(consumer, fig, ax)"
   ]
  },
  {
   "cell_type": "markdown",
   "metadata": {},
   "source": [
    "### b. Static data visualisation"
   ]
  },
  {
   "cell_type": "markdown",
   "metadata": {},
   "source": [
    "### i."
   ]
  },
  {
   "cell_type": "code",
   "execution_count": 2,
   "metadata": {
    "scrolled": true
   },
   "outputs": [
    {
     "data": {
      "image/png": "[encoded data removed]",
      "text/plain": [
       "<Figure size 640x480 with 1 Axes>"
      ]
     },
     "metadata": {},
     "output_type": "display_data"
    }
   ],
   "source": [
    "from pprint import pprint\n",
    "from pymongo import MongoClient\n",
    "import matplotlib.pyplot as plt; plt.rcdefaults()\n",
    "import numpy as np\n",
    "import matplotlib.pyplot as plt\n",
    "\n",
    "\n",
    "client = MongoClient()\n",
    "db = client.fit5148_db\n",
    "hot = db.hotspots_his\n",
    "\n",
    "\n",
    "xaxis = []\n",
    "yaxis = []\n",
    "\n",
    "result = db.hotspots_his.aggregate([{\"$group\":{\"_id\" :\"$date\" , \"count\": {\"$sum\":1}}},{\"$sort\":{'count':-1}},{ \"$limit\" : 10 }])\n",
    "\n",
    "for document in result:\n",
    "    xaxis.append(document['_id'])\n",
    "    yaxis.append(document['count'])\n",
    "\n",
    "plt.bar(xaxis, yaxis, align='center', alpha=0.5)\n",
    "plt.xticks(rotation='vertical')\n",
    "plt.ylabel('Fire numbers')\n",
    "plt.xlabel('Date')\n",
    "\n",
    "plt.show()\n",
    "\n",
    "\n",
    "client.close()"
   ]
  },
  {
   "cell_type": "markdown",
   "metadata": {},
   "source": [
    "### ii."
   ]
  },
  {
   "cell_type": "code",
   "execution_count": null,
   "metadata": {},
   "outputs": [],
   "source": [
    "import gmplot\n",
    "import webbrowser\n",
    "from pprint import pprint\n",
    "from pymongo import MongoClient\n",
    "import Geohash #pip install Geohash\n",
    "\n",
    "# gmplot contains a simple wrapper around \n",
    "# Google’s geocoding service enabling map initilization to the location of your choice.\n",
    "gmap = gmplot.GoogleMapPlotter(-37.812015244225677, 144.951471202974, 15) # latitude and longitude of melbourne city\n",
    "\n",
    "client = MongoClient()\n",
    "db = client.fit5148_db\n",
    "model = db.clim_hot_model\n",
    "\n",
    "data = model.aggregate([{\"$unwind\":\"$hot_spot_records\"},{'$project':{'latitude':\"$hot_spot_records.latitude\",'longitude':\"$hot_spot_records.longitude\",\"surface_temperature\":\"$hot_spot_records.surface_temperature_celcius\",\"air_temperature\":\"$air_temperature_celcius\",\"confidence\":\"$hot_spot_records.confidence\",\"relative_humidity\":\"$relative_humidity\"}}])\n",
    "\n",
    "newdata = []\n",
    "for i in data:\n",
    "    i['geo'] = Geohash.encode(i['latitude'], i['longitude'], precision=5)\n",
    "    newdata.append(i)\n",
    "\n",
    "for i in newdata:\n",
    "    gmap.marker(float(i['latitude']), float(i['longitude']), 'red', title = str('surface_temperature:'+str(i['surface_temperature'])+', air_temperature:'+str(i['air_temperature'])+', relative_humidity:'+str(i['relative_humidity'])+', confidence:'+str(i['confidence'])))\n",
    "    \n",
    "# Open web browser and draw the map\n",
    "gmap.draw(\"firemap.html\")\n",
    "webbrowser.open_new(\"firemap.html\")\n",
    "    "
   ]
  },
  {
   "cell_type": "code",
   "execution_count": null,
   "metadata": {},
   "outputs": [],
   "source": []
  }
 ],
 "metadata": {
  "kernelspec": {
   "display_name": "Python 3",
   "language": "python",
   "name": "python3"
  },
  "language_info": {
   "codemirror_mode": {
    "name": "ipython",
    "version": 3
   },
   "file_extension": ".py",
   "mimetype": "text/x-python",
   "name": "python",
   "nbconvert_exporter": "python",
   "pygments_lexer": "ipython3",
   "version": "3.5.2"
  }
 },
 "nbformat": 4,
 "nbformat_minor": 2
}
